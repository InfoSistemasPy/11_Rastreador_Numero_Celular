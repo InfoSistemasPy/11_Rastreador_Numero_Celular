{
 "cells": [
  {
   "cell_type": "code",
   "execution_count": 1,
   "id": "648eacdd",
   "metadata": {},
   "outputs": [],
   "source": [
    "import json\n",
    "import phonenumbers\n",
    "import pycountry\n",
    "from tkinter import Tk, Label, Button, Entry\n",
    "from phonenumbers import carrier\n",
    "from phonenumbers import geocoder\n",
    "from phone_iso3166.country import phone_country\n"
   ]
  },
  {
   "cell_type": "code",
   "execution_count": 3,
   "id": "6dad6b0a",
   "metadata": {},
   "outputs": [],
   "source": [
    "class Track:\n",
    "    def __init__(self, App):    \n",
    "        \n",
    "        self.window = App\n",
    "        self.window.title(\"Rastreador de número de telefone\")\n",
    "        self.window.geometry(\"500x400\")\n",
    "        self.window.configure(bg=\"#2f2212\")\n",
    "        \n",
    "        self.window.resizable(True, True)    \n",
    "        Label(App, text=\"Enter the phone number\", fg=\"orange\", font=(\"Times\", 20), bg=\"#3f5edb\").place(x=150, y=30)\n",
    "        self.mobile_number = Entry(App, width=14, font=(\"Arial\", 15), relief=\"flat\")\n",
    "        self.trackingbutton = Button(App, text=\"To track the number click here\", bg=\"#22c6c3\", relief=\"sunken\")\n",
    "        self.countryname = Label(App, fg=\"white\", font=(\"Times\", 20), bg=\"#3f5efb\")\n",
    "        self.countryname2 = Label(App, fg=\"white\", font=(\"Times\", 20), bg=\"#3f5efb\")\n",
    "        self.mobile_number.place(x=170, y=120)\n",
    "        self.trackingbutton.place(x=200, y=200)\n",
    "        self.countryname.place(x=100, y=280)     \n",
    "        \n",
    "        self.countryname2.place(x=300, y=280)\n",
    "        self.trackingbutton.bind(\"<Button-1>\", self.Track_THE_location)           \n",
    "    def Track_THE_location(self, event):    \n",
    "        phone_number = self.mobile_number.get()\n",
    "        if phone_number:\n",
    "            tracked = phonenumbers.parse(phone_number, \"RO\")\n",
    "            tracked2 =phonenumbers.parse(phone_number, \"CH\")\n",
    "        self.countryname.configure(text=carrier.name_for_number(tracked,\"en\"))\n",
    "        self.countryname2.configure(text=geocoder.description_for_number(tracked2, \"en\"))\n",
    "PhoneTracking = Tk()\n",
    "MyApp = Track(PhoneTracking)\n",
    "\n",
    "PhoneTracking.mainloop()\n"
   ]
  },
  {
   "cell_type": "code",
   "execution_count": null,
   "id": "4c844d35",
   "metadata": {},
   "outputs": [],
   "source": []
  }
 ],
 "metadata": {
  "kernelspec": {
   "display_name": "Python 3 (ipykernel)",
   "language": "python",
   "name": "python3"
  },
  "language_info": {
   "codemirror_mode": {
    "name": "ipython",
    "version": 3
   },
   "file_extension": ".py",
   "mimetype": "text/x-python",
   "name": "python",
   "nbconvert_exporter": "python",
   "pygments_lexer": "ipython3",
   "version": "3.8.13"
  }
 },
 "nbformat": 4,
 "nbformat_minor": 5
}
