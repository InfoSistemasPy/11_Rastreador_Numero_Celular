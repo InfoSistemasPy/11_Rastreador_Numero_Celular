{
 "cells": [
  {
   "cell_type": "code",
   "execution_count": 11,
   "id": "f86754c6",
   "metadata": {},
   "outputs": [
    {
     "name": "stdout",
     "output_type": "stream",
     "text": [
      "Country Code: 55 National Number: 18991689615\n"
     ]
    }
   ],
   "source": [
    "import phonenumbers\n",
    "\n",
    "#Ajuste do telefone para usar o phonenumbers\n",
    "telefone = \"+5518991689615\"\n",
    "telefone_ajustado = phonenumbers.parse(telefone)\n",
    "print(telefone_ajustado)\n"
   ]
  },
  {
   "cell_type": "code",
   "execution_count": 12,
   "id": "fa343a78",
   "metadata": {},
   "outputs": [
    {
     "name": "stdout",
     "output_type": "stream",
     "text": [
      "São Paulo\n"
     ]
    }
   ],
   "source": [
    "#Descobrir a localização do telefone\n",
    "from phonenumbers import geocoder\n",
    "local = geocoder.description_for_number(telefone_ajustado, 'pt-br')\n",
    "print(local)"
   ]
  },
  {
   "cell_type": "code",
   "execution_count": 13,
   "id": "27a839eb",
   "metadata": {},
   "outputs": [
    {
     "name": "stdout",
     "output_type": "stream",
     "text": [
      "(18) 99168-9615\n",
      "+55 18 99168-9615\n"
     ]
    }
   ],
   "source": [
    "#Formatando um telefone que foi inserido em um formulário\n",
    "\n",
    "telefone_formulario = \"+5518991689615\"\n",
    "\n",
    "telefone_formulario_ajustado = phonenumbers.parse(telefone_formulario, \"BR\")\n",
    "\n",
    "telefone_formatado = phonenumbers.format_number(telefone_formulario_ajustado,phonenumbers.PhoneNumberFormat.NATIONAL)\n",
    "\n",
    "telefone_internacional = phonenumbers.format_number(telefone_formulario_ajustado,phonenumbers.PhoneNumberFormat.INTERNATIONAL)\n",
    "\n",
    "print(telefone_formatado)\n",
    "\n",
    "print(telefone_internacional)"
   ]
  },
  {
   "cell_type": "code",
   "execution_count": 14,
   "id": "06433119",
   "metadata": {},
   "outputs": [
    {
     "name": "stdout",
     "output_type": "stream",
     "text": [
      "Claro\n"
     ]
    }
   ],
   "source": [
    "#Descobrir a operadora do telefone\n",
    "\n",
    "from phonenumbers import carrier\n",
    "\n",
    "operadora = carrier.name_for_number(telefone_ajustado,'pt-br')\n",
    "\n",
    "print(operadora)\n"
   ]
  },
  {
   "cell_type": "code",
   "execution_count": 21,
   "id": "8ed7651f",
   "metadata": {},
   "outputs": [
    {
     "ename": "SyntaxError",
     "evalue": "invalid syntax (2106301895.py, line 16)",
     "output_type": "error",
     "traceback": [
      "\u001b[1;36m  Input \u001b[1;32mIn [21]\u001b[1;36m\u001b[0m\n\u001b[1;33m    gb_number = phonenumbers.parse(\"18991689615\", \"GB\")\u001b[0m\n\u001b[1;37m    ^\u001b[0m\n\u001b[1;31mSyntaxError\u001b[0m\u001b[1;31m:\u001b[0m invalid syntax\n"
     ]
    }
   ],
   "source": [
    "\n",
    "\n",
    "from phonenumbers import geocoder \n",
    "from phonenumbers import timezone \n",
    "\n",
    "ch_number = phonenumbers.parse(\"18991689615\", \"CH\") \n",
    "geocoder.description_for_number ( ch_number , \"de\") \n",
    "\n",
    "geocoder.description_for_number(ch_number, \"en\") \n",
    " \n",
    "geocoder.description_for_number(ch_number , \n",
    "\n",
    "geocodificador.description_for_number(ch_number,  \"it\") \n",
    "\n",
    "\n",
    "\n",
    "                                       \n",
    "gb_number = phonenumbers.parse(\"18991689615\", \"GB\") \n",
    "fusohorário.time_zones_for_number(gb_number)"
   ]
  },
  {
   "cell_type": "code",
   "execution_count": 10,
   "id": "34f49716",
   "metadata": {},
   "outputs": [
    {
     "name": "stdout",
     "output_type": "stream",
     "text": [
      "{\"message\":\"You are not subscribed to this API.\"}\n"
     ]
    }
   ],
   "source": [
    "import requests\n",
    "\n",
    "url = \"https://format-phone-number.p.rapidapi.com/phone/code/tw\"\n",
    "\n",
    "headers = {\n",
    "\t\"X-RapidAPI-Key\": \"19476e2661mshd5605128bd8a41fp13fac5jsn5ad803b32894\",\n",
    "\t\"X-RapidAPI-Host\": \"format-phone-number.p.rapidapi.com\"\n",
    "}\n",
    "\n",
    "response = requests.request(\"GET\", url, headers=headers)\n",
    "\n",
    "print(response.text)"
   ]
  },
  {
   "cell_type": "code",
   "execution_count": null,
   "id": "5c7a7bac",
   "metadata": {},
   "outputs": [],
   "source": [
    "\n"
   ]
  }
 ],
 "metadata": {
  "kernelspec": {
   "display_name": "Python 3 (ipykernel)",
   "language": "python",
   "name": "python3"
  },
  "language_info": {
   "codemirror_mode": {
    "name": "ipython",
    "version": 3
   },
   "file_extension": ".py",
   "mimetype": "text/x-python",
   "name": "python",
   "nbconvert_exporter": "python",
   "pygments_lexer": "ipython3",
   "version": "3.8.13"
  }
 },
 "nbformat": 4,
 "nbformat_minor": 5
}
